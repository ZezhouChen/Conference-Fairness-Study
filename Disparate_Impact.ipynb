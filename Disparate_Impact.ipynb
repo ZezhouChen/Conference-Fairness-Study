{
 "cells": [
  {
   "cell_type": "code",
   "execution_count": 50,
   "metadata": {
    "scrolled": true
   },
   "outputs": [],
   "source": [
    "import pandas as pd\n",
    "import numpy as np\n",
    "\n",
    "df = pd.read_csv('./iclr2017_papers_preprocessed.csv')"
   ]
  },
  {
   "cell_type": "markdown",
   "metadata": {},
   "source": [
    "            Gender"
   ]
  },
  {
   "cell_type": "code",
   "execution_count": 79,
   "metadata": {},
   "outputs": [],
   "source": [
    "malePaper = df.loc[df['gender'] == 'male']\n",
    "femalePaper = df.loc[df['gender'] == 'female']\n",
    "maleAcc = malePaper['decision'].isin(['Accept'])\n",
    "femaleAcc = femalePaper['decision'].isin(['Accept'])\n",
    "maleAccept = malePaper[maleAcc]\n",
    "maleReject = malePaper[~maleAcc]\n",
    "femaleAccept = femalePaper[femaleAcc]\n",
    "femaleReject = femalePaper[femaleAcc]"
   ]
  },
  {
   "cell_type": "markdown",
   "metadata": {},
   "source": [
    "P(A|B) = P(A and B) / P(B)\n",
    "Given data set D = (X,Y,C). In this part, protected attribute is gender\n",
    "X = 1 assigned to \"male\", X = 0 for female\n",
    "We want p(accept | X = 0) / p(accept | X = 1)"
   ]
  },
  {
   "cell_type": "code",
   "execution_count": 80,
   "metadata": {},
   "outputs": [
    {
     "name": "stdout",
     "output_type": "stream",
     "text": [
      "Disparate Impact of gender:\n",
      "tau = 1.0675175730669626\n"
     ]
    }
   ],
   "source": [
    "d1 = len(femaleAccept) / len(femalePaper)\n",
    "d2 = len(maleAccept) / len(malePaper)\n",
    "di = d1 / d2\n",
    "print(\"Disparate Impact of gender:\\ntau =\", di)"
   ]
  },
  {
   "cell_type": "markdown",
   "metadata": {},
   "source": [
    "                Race"
   ]
  },
  {
   "cell_type": "code",
   "execution_count": 81,
   "metadata": {},
   "outputs": [
    {
     "name": "stdout",
     "output_type": "stream",
     "text": [
      "Disparate Impact of EastAsian:\n",
      "tau =  1.1036708350141187\n"
     ]
    }
   ],
   "source": [
    "#EastAsian\n",
    "EAPaper = df.loc[df['race'] == 'EastAsian']\n",
    "nEAPaper = df.loc[df['race'] != 'EastAsian']\n",
    "maskEA = EAPaper['decision'].isin(['Accept'])\n",
    "masknEA = nEAPaper['decision'].isin(['Accept'])\n",
    "EAAccept = EAPaper[maskEA]\n",
    "EAReject = EAPaper[~maskEA]\n",
    "nEAAccept = nEAPaper[masknEA]\n",
    "nEAReject = nEAPaper[~masknEA]\n",
    "de = len(EAAccept) / len(EAPaper)\n",
    "dn = len(nEAAccept) / len(nEAPaper)\n",
    "diEA = de / dn\n",
    "print(\"Disparate Impact of EastAsian:\\ntau = \", diEA)"
   ]
  },
  {
   "cell_type": "code",
   "execution_count": 82,
   "metadata": {},
   "outputs": [
    {
     "name": "stdout",
     "output_type": "stream",
     "text": [
      "Disparate Impact of Europe (geographical):\n",
      "tau = 0.8566912539515279\n"
     ]
    }
   ],
   "source": [
    "#Europe (geographical)\n",
    "mask = df['race'].isin(['French', 'British','EastEuropean',\n",
    "                        'Germanic','Italian','Nordic'])\n",
    "EuPaper = df[mask]\n",
    "nEuPaper = df[~mask]\n",
    "EuAccept = EuPaper.loc[EuPaper['decision'] == 'Accept']\n",
    "#EuReject = EuPaper.loc[EuPaper['decision'] == 'Reject']\n",
    "nEuAccept = nEuPaper.loc[nEuPaper['decision'] == 'Accept']\n",
    "#nEuReject = nEuPaper.loc[nEuPaper['decision'] == 'Reject']\n",
    "\n",
    "du = len(EuAccept) / len(EuPaper)\n",
    "dnu = len(nEuAccept) / len(nEuPaper)\n",
    "diEu = du / dnu\n",
    "print(\"Disparate Impact of Europe (geographical):\\ntau =\",diEu)"
   ]
  },
  {
   "cell_type": "code",
   "execution_count": 83,
   "metadata": {},
   "outputs": [
    {
     "name": "stdout",
     "output_type": "stream",
     "text": [
      "Disparate Impact of IndianSubContinent:\n",
      "tau = 1.1034169156814344\n"
     ]
    }
   ],
   "source": [
    "#IndianSubContinent\n",
    "IndianPaper = df.loc[df['race'] == 'IndianSubContinent']\n",
    "nIndianPaper = df.loc[df['race'] != 'IndianSubContinent']\n",
    "IndianAccept = IndianPaper.loc[IndianPaper['decision'] == 'Accept']\n",
    "nIndianAccept = nIndianPaper.loc[nIndianPaper['decision'] == 'Accept']\n",
    "\n",
    "din = len(IndianAccept) / len(IndianPaper)\n",
    "dnin = len(nIndianAccept) / len(nIndianPaper)\n",
    "diIndian = din / dnin\n",
    "print(\"Disparate Impact of IndianSubContinent:\\ntau =\", diIndian)"
   ]
  },
  {
   "cell_type": "code",
   "execution_count": 84,
   "metadata": {},
   "outputs": [
    {
     "name": "stdout",
     "output_type": "stream",
     "text": [
      "Disparate Impact of Africans:\n",
      "tau =  0.8231292517006803\n"
     ]
    }
   ],
   "source": [
    "#Africans\n",
    "AfricanPaper = df.loc[df['race'] == 'Africans']\n",
    "nAfricanPaper = df.loc[df['race'] != 'Africans']\n",
    "AfricanAccept = AfricanPaper.loc[AfricanPaper['decision'] == 'Accept']\n",
    "nAfricanAccept = nAfricanPaper.loc[nAfricanPaper['decision'] == 'Accept']\n",
    "\n",
    "daf = len(AfricanAccept) / len(AfricanPaper)\n",
    "dnaf = len(nAfricanAccept) / len(nAfricanPaper)\n",
    "diAfricans = daf / dnaf\n",
    "print(\"Disparate Impact of Africans:\\ntau = \",diAfricans)"
   ]
  },
  {
   "cell_type": "code",
   "execution_count": 86,
   "metadata": {},
   "outputs": [
    {
     "name": "stdout",
     "output_type": "stream",
     "text": [
      "Disparate Impact of Hispanic:\n",
      "tau =  1.3447442609746274\n"
     ]
    }
   ],
   "source": [
    "#Hispanic\n",
    "HispanicPaper = df.loc[df['race'] == 'Hispanic']\n",
    "nHispanicPaper = df.loc[df['race'] != 'Hispanic']\n",
    "HispanicAccept = HispanicPaper.loc[HispanicPaper['decision'] == 'Accept']\n",
    "nHispanicAccept = nHispanicPaper.loc[nHispanicPaper['decision'] == 'Accept']\n",
    "\n",
    "dh = len(HispanicAccept) / len(HispanicPaper)\n",
    "dnh = len(nHispanicAccept) / len(nHispanicPaper)\n",
    "diHispanic = dh / dnh\n",
    "print(\"Disparate Impact of Hispanic:\\ntau = \",diHispanic)"
   ]
  },
  {
   "cell_type": "code",
   "execution_count": 87,
   "metadata": {},
   "outputs": [
    {
     "name": "stdout",
     "output_type": "stream",
     "text": [
      "Disparate Impact of Jewish:\n",
      "tau =  1.3974990526714666\n"
     ]
    }
   ],
   "source": [
    "#Jewish\n",
    "JewishPaper = df.loc[df['race'] == 'Jewish']\n",
    "nJewishPaper = df.loc[df['race'] != 'Jewish']\n",
    "JewAccept = JewishPaper.loc[JewishPaper['decision'] == 'Accept']\n",
    "nJewAccept = nJewishPaper.loc[nJewishPaper['decision'] == 'Accept']\n",
    "\n",
    "dj = len(JewAccept) / len(JewishPaper)\n",
    "dnj = len(nJewAccept) / len(nJewishPaper)\n",
    "diJew = dj / dnj\n",
    "print(\"Disparate Impact of Jewish:\\ntau = \",diJew)"
   ]
  },
  {
   "cell_type": "code",
   "execution_count": 89,
   "metadata": {},
   "outputs": [
    {
     "name": "stdout",
     "output_type": "stream",
     "text": [
      "Disparate Impact of Muslin:\n",
      "tau =  0.92578125\n"
     ]
    }
   ],
   "source": [
    "#Muslim\n",
    "MusPaper = df.loc[df['race'] == 'Muslim']\n",
    "nMusPaper = df.loc[df['race'] != 'Muslim']\n",
    "MusAccept = MusPaper.loc[MusPaper['decision'] == 'Accept']\n",
    "nMusAccept = nMusPaper.loc[nMusPaper['decision'] == 'Accept']\n",
    "                           \n",
    "dm = len(MusAccept) / len(MusPaper)\n",
    "dnm = len(nMusAccept) / len(nMusPaper)\n",
    "diMus = dm / dnm\n",
    "print(\"Disparate Impact of Muslin:\\ntau = \",diMus)                      \n",
    "                           \n",
    "                           "
   ]
  },
  {
   "cell_type": "code",
   "execution_count": null,
   "metadata": {},
   "outputs": [],
   "source": []
  }
 ],
 "metadata": {
  "kernelspec": {
   "display_name": "Python 3",
   "language": "python",
   "name": "python3"
  },
  "language_info": {
   "codemirror_mode": {
    "name": "ipython",
    "version": 3
   },
   "file_extension": ".py",
   "mimetype": "text/x-python",
   "name": "python",
   "nbconvert_exporter": "python",
   "pygments_lexer": "ipython3",
   "version": "3.7.4"
  }
 },
 "nbformat": 4,
 "nbformat_minor": 2
}
