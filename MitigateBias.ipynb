{
 "cells": [
  {
   "cell_type": "code",
   "execution_count": 1,
   "metadata": {
    "scrolled": false
   },
   "outputs": [],
   "source": [
    "import pandas as pd\n",
    "import numpy as np\n",
    "import matplotlib.pyplot as plt\n",
    "df = pd.read_csv('./iclr2019_papers_preprocessed.csv')"
   ]
  },
  {
   "cell_type": "code",
   "execution_count": 2,
   "metadata": {},
   "outputs": [],
   "source": [
    "#EastAsian\n",
    "mask = df['race'].isin(['EastAsian','Japanese'])\n",
    "EAPaper = df[mask]\n",
    "nEAPaper = df[~mask]\n",
    "maskEA = EAPaper['decision'].isin(['Accept'])\n",
    "masknEA = nEAPaper['decision'].isin(['Accept'])\n",
    "EAAccept = EAPaper[maskEA]\n",
    "EAReject = EAPaper[~maskEA]\n",
    "nEAAccept = nEAPaper[masknEA]\n",
    "nEAReject = nEAPaper[~masknEA]\n",
    "#Europe (geographical)\n",
    "mask = df['race'].isin(['French', 'British','EastEuropean',\n",
    "                        'Germanic','Italian','Nordic'])\n",
    "EuPaper = df[mask]\n",
    "nEuPaper = df[~mask]\n",
    "EuAccept = EuPaper.loc[EuPaper['decision'] == 'Accept']\n",
    "#EuReject = EuPaper.loc[EuPaper['decision'] == 'Reject']\n",
    "nEuAccept = nEuPaper.loc[nEuPaper['decision'] == 'Accept']\n",
    "#nEuReject = nEuPaper.loc[nEuPaper['decision'] == 'Reject']\n",
    "#IndianSubContinent\n",
    "IndianPaper = df.loc[df['race'] == 'IndianSubContinent']\n",
    "nIndianPaper = df.loc[df['race'] != 'IndianSubContinent']\n",
    "IndianAccept = IndianPaper.loc[IndianPaper['decision'] == 'Accept']\n",
    "nIndianAccept = nIndianPaper.loc[nIndianPaper['decision'] == 'Accept']\n",
    "#Africans\n",
    "AfricanPaper = df.loc[df['race'] == 'Africans']\n",
    "nAfricanPaper = df.loc[df['race'] != 'Africans']\n",
    "AfricanAccept = AfricanPaper.loc[AfricanPaper['decision'] == 'Accept']\n",
    "nAfricanAccept = nAfricanPaper.loc[nAfricanPaper['decision'] == 'Accept']\n",
    "#Hispanic\n",
    "HispanicPaper = df.loc[df['race'] == 'Hispanic']\n",
    "nHispanicPaper = df.loc[df['race'] != 'Hispanic']\n",
    "HispanicAccept = HispanicPaper.loc[HispanicPaper['decision'] == 'Accept']\n",
    "nHispanicAccept = nHispanicPaper.loc[nHispanicPaper['decision'] == 'Accept']\n",
    "#Jewish\n",
    "JewishPaper = df.loc[df['race'] == 'Jewish']\n",
    "nJewishPaper = df.loc[df['race'] != 'Jewish']\n",
    "JewAccept = JewishPaper.loc[JewishPaper['decision'] == 'Accept']\n",
    "nJewAccept = nJewishPaper.loc[nJewishPaper['decision'] == 'Accept']\n",
    "#Muslim\n",
    "MusPaper = df.loc[df['race'] == 'Muslim']\n",
    "nMusPaper = df.loc[df['race'] != 'Muslim']\n",
    "MusAccept = MusPaper.loc[MusPaper['decision'] == 'Accept']\n",
    "MusReject = MusPaper.loc[MusPaper['decision'] != 'Accept']\n",
    "nMusAccept = nMusPaper.loc[nMusPaper['decision'] == 'Accept']\n",
    "#Accept\n",
    "acceptPaper = df.loc[df['decision'] == 'Accept']"
   ]
  },
  {
   "cell_type": "code",
   "execution_count": 3,
   "metadata": {
    "scrolled": true
   },
   "outputs": [
    {
     "name": "stdout",
     "output_type": "stream",
     "text": [
      "Weightings:  1.0461999922091076 0.910118464100535 0.9224476892375175 1.3266384778012685 1.1149123368996519 1.002349072116514 1.2617805966643176\n"
     ]
    }
   ],
   "source": [
    "numAll = len(df)\n",
    "numPos = len(acceptPaper)\n",
    "Wea = (len(EAPaper) * numPos) / (numAll * len(EAAccept))\n",
    "Weu = (len(EuPaper) * numPos) / (numAll * len(EuAccept))\n",
    "Win = (len(IndianPaper) * numPos) / (numAll * len(IndianAccept))\n",
    "Waf = (len(AfricanPaper) * numPos) / (numAll * len(AfricanAccept))\n",
    "Whi = (len(HispanicPaper) * numPos) / (numAll * len(HispanicAccept))\n",
    "Wjw = (len(JewishPaper) * numPos) / (numAll * len(JewAccept))\n",
    "Wmu = (len(MusPaper) * numPos) / (numAll * len(MusAccept))\n",
    "weightList = []\n",
    "\n",
    "print(\"Weightings: \", Wea,Weu,Win,Waf,Whi,Wjw,Wmu)"
   ]
  },
  {
   "cell_type": "code",
   "execution_count": 4,
   "metadata": {},
   "outputs": [],
   "source": [
    "#Add weights to the data\n",
    "def weights_col(race):\n",
    "    switcher={\n",
    "        'EastAsian': Wea,\n",
    "        'Japanese': Wea,\n",
    "        'French': Weu,\n",
    "        'British': Weu,\n",
    "        'EastEuropean': Weu,\n",
    "        'Germanic': Weu,\n",
    "        'Italian': Weu,\n",
    "        'Nordic': Weu,\n",
    "        'IndianSubContinent': Win,\n",
    "        'Africans': Waf,\n",
    "        'Hispanic':Whi,\n",
    "        'Jewish':Wjw,\n",
    "        'Muslim': Wmu\n",
    "    }\n",
    "    return switcher.get(race,0)"
   ]
  },
  {
   "cell_type": "code",
   "execution_count": 5,
   "metadata": {},
   "outputs": [],
   "source": [
    "for i in range(len(df)):\n",
    "    weightList.append(weights_col(df['race'][i]))"
   ]
  },
  {
   "cell_type": "code",
   "execution_count": 6,
   "metadata": {},
   "outputs": [],
   "source": [
    "df['weights'] = weightList"
   ]
  },
  {
   "cell_type": "code",
   "execution_count": 7,
   "metadata": {},
   "outputs": [],
   "source": [
    "weightedTotal = len(EAPaper)*Wea + len(EuPaper)*Weu + len(IndianPaper)*Win + len(AfricanPaper)*Waf+len(HispanicPaper)*Whi+len(JewishPaper)*Wjw+len(MusPaper)*Wmu\n",
    "weightedAccept = len(EAAccept)*Wea + len(EuAccept)*Weu + len(IndianAccept)*Win + len(AfricanAccept)*Waf+len(HispanicAccept)*Whi+len(JewAccept)*Wjw+len(MusAccept)*Wmu\n"
   ]
  },
  {
   "cell_type": "code",
   "execution_count": 8,
   "metadata": {},
   "outputs": [],
   "source": [
    "def cal_Di(paperAcc,paper,W):\n",
    "        dm = len(paperAcc) / len(paper)\n",
    "        dn = (weightedAccept - len(paperAcc) * W) / (weightedTotal - len(paper)*W)\n",
    "        return dm/dn"
   ]
  },
  {
   "cell_type": "code",
   "execution_count": 9,
   "metadata": {},
   "outputs": [],
   "source": [
    "#EastAsian\n",
    "mask = df['race'].isin(['EastAsian','Japanese'])\n",
    "EAPaper = df[mask]\n",
    "nEAPaper = df[~mask]\n",
    "maskEA = EAPaper['decision'].isin(['Accept'])\n",
    "masknEA = nEAPaper['decision'].isin(['Accept'])\n",
    "EAAccept = EAPaper[maskEA]\n",
    "EAReject = EAPaper[~maskEA]\n",
    "#Europe (geographical)\n",
    "mask = df['race'].isin(['French', 'British','EastEuropean',\n",
    "                        'Germanic','Italian','Nordic'])\n",
    "EuPaper = df[mask]\n",
    "nEuPaper = df[~mask]\n",
    "#IndianSubContinent\n",
    "IndianPaper = df.loc[df['race'] == 'IndianSubContinent']\n",
    "IndianAccept = IndianPaper.loc[IndianPaper['decision'] == 'Accept']\n",
    "\n",
    "#Africans\n",
    "AfricanPaper = df.loc[df['race'] == 'Africans']\n",
    "AfricanAccept = AfricanPaper.loc[AfricanPaper['decision'] == 'Accept']\n",
    "#Hispanic\n",
    "HispanicPaper = df.loc[df['race'] == 'Hispanic']\n",
    "HispanicAccept = HispanicPaper.loc[HispanicPaper['decision'] == 'Accept']\n",
    "#Jewish\n",
    "JewishPaper = df.loc[df['race'] == 'Jewish']\n",
    "JewAccept = JewishPaper.loc[JewishPaper['decision'] == 'Accept']\n",
    "#Muslim\n",
    "MusPaper = df.loc[df['race'] == 'Muslim']\n",
    "MusAccept = MusPaper.loc[MusPaper['decision'] == 'Accept']\n",
    "MusReject = MusPaper.loc[MusPaper['decision'] != 'Accept']"
   ]
  },
  {
   "cell_type": "code",
   "execution_count": 10,
   "metadata": {},
   "outputs": [],
   "source": [
    "#cal_Di(paperAcc,paper,W)\n",
    "ea_Di = cal_Di(EAAccept,EAPaper,Wea)\n",
    "eu_Di = cal_Di(EuAccept,EuPaper,Weu)\n",
    "in_Di = cal_Di(IndianAccept,IndianPaper,Win)\n",
    "af_Di = cal_Di(AfricanAccept,AfricanPaper,Waf)\n",
    "hi_Di = cal_Di(HispanicAccept,HispanicPaper,Whi)\n",
    "jw_Di = cal_Di(JewAccept,JewishPaper,Wjw)\n",
    "mu_Di = cal_Di(MusAccept,MusPaper,Wmu)\n"
   ]
  },
  {
   "cell_type": "code",
   "execution_count": 11,
   "metadata": {},
   "outputs": [
    {
     "data": {
      "image/png": "[encoded data removed]",
      "text/plain": [
       "<Figure size 432x288 with 1 Axes>"
      ]
     },
     "metadata": {
      "needs_background": "light"
     },
     "output_type": "display_data"
    }
   ],
   "source": [
    "x = [ea_Di,eu_Di,in_Di,af_Di,hi_Di,jw_Di,mu_Di]\n",
    "mylabels='EastAsian','European','IndianSubContinent','African','Hispanic','Jewish','Muslin'\n",
    "plt.barh(range(7),x,height=0.7,color='steelblue',alpha=0.8)\n",
    "plt.yticks(range(7),mylabels)\n",
    "plt.xlim(0.25,2)\n",
    "plt.xlabel('Calculated Result')\n",
    "plt.title(\"Disparate Impact Detection Based on 80% rule\")\n",
    "plt.show()"
   ]
  },
  {
   "cell_type": "code",
   "execution_count": null,
   "metadata": {},
   "outputs": [],
   "source": []
  }
 ],
 "metadata": {
  "kernelspec": {
   "display_name": "Python 3",
   "language": "python",
   "name": "python3"
  },
  "language_info": {
   "codemirror_mode": {
    "name": "ipython",
    "version": 3
   },
   "file_extension": ".py",
   "mimetype": "text/x-python",
   "name": "python",
   "nbconvert_exporter": "python",
   "pygments_lexer": "ipython3",
   "version": "3.7.4"
  }
 },
 "nbformat": 4,
 "nbformat_minor": 2
}
